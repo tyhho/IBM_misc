{
  "cells": [
    {
      "cell_type": "code",
      "execution_count": null,
      "metadata": {
        "collapsed": false
      },
      "outputs": [],
      "source": [
        "%matplotlib inline"
      ]
    },
    {
      "cell_type": "markdown",
      "metadata": {},
      "source": [
        "\nFour ways to get the secondary structure of a protein\n=====================================================\n\nIn this example, we will obtain the secondary structure of the\ntransketolase crystal structure (PDB: 1QGD) in four different ways and\nvisualize it using a customized feature map.\n\nAt first, we will write draw functions for visualization of helices and\nsheets in feature maps.\n\n"
      ]
    },
    {
      "cell_type": "code",
      "execution_count": null,
      "metadata": {
        "collapsed": false
      },
      "outputs": [],
      "source": [
        "# Code source: Patrick Kunzmann\n# License: BSD 3 clause\n\nimport numpy as np\nimport matplotlib.pyplot as plt\nfrom matplotlib.lines import Line2D\nfrom matplotlib.patches import Rectangle\nimport biotite\nimport biotite.structure as struc\nimport biotite.structure.io.mmtf as mmtf\nimport biotite.sequence as seq\nimport biotite.sequence.graphics as graphics\nimport biotite.sequence.io.genbank as gb\nimport biotite.database.rcsb as rcsb\nimport biotite.database.entrez as entrez\nimport biotite.application.dssp as dssp\n\n\n# Create 'FeaturePlotter' subclasses\n# for drawing the scondary structure features\n\nclass HelixPlotter(graphics.FeaturePlotter):\n\n    def __init__(self):\n        pass\n\n    # Check whether this class is applicable for drawing a feature\n    def matches(self, feature):\n        if feature.key == \"SecStr\":\n            if \"sec_str_type\" in feature.qual:\n                if feature.qual[\"sec_str_type\"] == \"helix\":\n                    return True\n        return False\n    \n    # The drawing function itself\n    def draw(self, axes, feature, bbox, loc, style_param):\n        # Approx. 1 turn per 3.6 residues to resemble natural helix\n        n_turns = np.ceil((loc.last - loc.first + 1) / 3.6)\n        x_val = np.linspace(0, n_turns * 2*np.pi, 100)\n        # Curve ranges from 0.3 to 0.7\n        y_val = (-0.4*np.sin(x_val) + 1) / 2\n        \n        # Transform values for correct location in feature map\n        x_val *= bbox.width / (n_turns * 2*np.pi)\n        x_val += bbox.x0\n        y_val *= bbox.height\n        y_val += bbox.y0\n        \n        # Draw white background to overlay the guiding line\n        background = Rectangle(\n            bbox.p0, bbox.width, bbox.height, color=\"white\", linewidth=0\n        )\n        axes.add_patch(background)\n        axes.plot(\n            x_val, y_val, linewidth=2, color=biotite.colors[\"dimgreen\"]\n        )\n\n\nclass SheetPlotter(graphics.FeaturePlotter):\n\n    def __init__(self, head_width=0.8, tail_width=0.5):\n        self._head_width = head_width\n        self._tail_width = tail_width\n\n\n    def matches(self, feature):\n        if feature.key == \"SecStr\":\n            if \"sec_str_type\" in feature.qual:\n                if feature.qual[\"sec_str_type\"] == \"sheet\":\n                    return True\n        return False\n    \n    def draw(self, axes, feature, bbox, loc, style_param):\n        x = bbox.x0\n        y = bbox.y0 + bbox.height/2\n        dx = bbox.width\n        dy = 0\n        \n        if  loc.defect & seq.Location.Defect.MISS_RIGHT:\n            # If the feature extends into the prevoius or next line\n            # do not draw an arrow head\n            draw_head = False\n        else:\n            draw_head = True\n        \n        axes.add_patch(biotite.AdaptiveFancyArrow(\n            x, y, dx, dy,\n            self._tail_width*bbox.height, self._head_width*bbox.height,\n            # Create head with 90 degrees tip\n            # -> head width/length ratio = 1/2\n            head_ratio=0.5, draw_head=draw_head,\n            color=biotite.colors[\"orange\"], linewidth=0\n        ))\n\n\n# Test our drawing functions with example annotation\nannotation = seq.Annotation([\n    seq.Feature(\"SecStr\", [seq.Location(10, 40)], {\"sec_str_type\" : \"helix\"}),\n    seq.Feature(\"SecStr\", [seq.Location(60, 90)], {\"sec_str_type\" : \"sheet\"}),\n])\n\nfig = plt.figure(figsize=(8.0, 0.8))\nax = fig.add_subplot(111)\ngraphics.plot_feature_map(\n    ax, annotation, multi_line=False, loc_range=(1,100),\n    # Register our drawing functions\n    feature_plotters=[HelixPlotter(), SheetPlotter()]\n)\nfig.tight_layout()"
      ]
    },
    {
      "cell_type": "markdown",
      "metadata": {},
      "source": [
        "Now let us do some serious application.\nWe want to visualize the secondary structure of one monomer of the\nhomodimeric transketolase (PDB: 1QGD).\nThe simplest way to do that, is to fetch the corresponding GenBank\nfile, extract an `Annotation` object from the file and draw the\nannotation.\n\n"
      ]
    },
    {
      "cell_type": "code",
      "execution_count": null,
      "metadata": {
        "collapsed": false
      },
      "outputs": [],
      "source": [
        "# Fetch GenBank files of the TK's first chain and extract annotatation\nfile_name = entrez.fetch(\"1QGD_A\", biotite.temp_dir(), \"gb\", \"protein\", \"gb\")\ngb_file = gb.GenBankFile()\ngb_file.read(file_name)\nannotation = gb.get_annotation(gb_file, include_only=[\"SecStr\"])\n# Length of the sequence\n_, length, _, _, _, _ = gb.get_locus(gb_file)\n\nfig = plt.figure(figsize=(8.0, 3.0))\nax = fig.add_subplot(111)\ngraphics.plot_feature_map(\n    ax, annotation, symbols_per_line=150,\n    show_numbers=True, show_line_position=True,\n    # 'loc_range' takes exclusive stop -> length+1 is required\n    loc_range=(1,length+1),\n    feature_plotters=[HelixPlotter(), SheetPlotter()]\n)\nfig.tight_layout()"
      ]
    },
    {
      "cell_type": "markdown",
      "metadata": {},
      "source": [
        "Another (more complicated) approach is the creation of an `Annotation`\ncontaining the secondary structure from a structure file.\nAll file formats distributed by the *RCSB PDB* contain this\ninformation, but it is most easily extracted from the\n``'secStructList'`` field in MMTF files.\nSince the two sources use different means of secondary structure\ncalculation, the results will differ from each other.\n\n"
      ]
    },
    {
      "cell_type": "code",
      "execution_count": null,
      "metadata": {
        "collapsed": false
      },
      "outputs": [],
      "source": [
        "# Dictionary to convert 'secStructList' codes to DSSP values\n# https://github.com/rcsb/mmtf/blob/master/spec.md#secstructlist\nsec_struct_codes = {0 : \"I\",\n                    1 : \"S\",\n                    2 : \"H\",\n                    3 : \"E\",\n                    4 : \"G\",\n                    5 : \"B\",\n                    6 : \"T\",\n                    7 : \"C\"}\n# Converter for the DSSP secondary structure elements\n# to the classical ones\ndssp_to_abc = {\"I\" : \"c\",\n               \"S\" : \"c\",\n               \"H\" : \"a\",\n               \"E\" : \"b\",\n               \"G\" : \"c\",\n               \"B\" : \"b\",\n               \"T\" : \"c\",\n               \"C\" : \"c\"}\n\n\n# Fetch and load structure\nfile_name = rcsb.fetch(\"1QGD\", \"mmtf\", biotite.temp_dir())\nmmtf_file = mmtf.MMTFFile()\nmmtf_file.read(file_name)\narray = mmtf.get_structure(mmtf_file, model=1)\n# Transketolase homodimer\ntk_dimer = array[struc.filter_amino_acids(array)]\n# Transketolase monomer\ntk_mono = tk_dimer[tk_dimer.chain_id == \"A\"]\n\n# The chain ID corresponding to each residue\nchain_id_per_res = array.chain_id[struc.get_residue_starts(tk_dimer)]\nsse = mmtf_file[\"secStructList\"]\nsse = sse[sse != -1]\nsse = sse[chain_id_per_res == \"A\"]\nsse = np.array([sec_struct_codes[code] for code in sse if code != -1],\n               dtype=\"U1\")\nsse = np.array([dssp_to_abc[e] for e in sse], dtype=\"U1\")\n\n# Helper function to convert secondary structure array to annotation\n# and visualize it\ndef visualize_secondary_structure(sse, first_id):\n    \n    def _add_sec_str(annotation, first, last, str_type):\n        if str_type == \"a\":\n            str_type = \"helix\"\n        elif str_type == \"b\":\n            str_type = \"sheet\"\n        else:\n            # coil\n            return\n        feature = seq.Feature(\n            \"SecStr\", [seq.Location(first, last)], {\"sec_str_type\" : str_type}\n        )\n        annotation.add_feature(feature)\n    \n    # Find the intervals for each secondary structure element\n    # and add to annotation\n    annotation = seq.Annotation()\n    curr_sse = None\n    curr_start = None\n    for i in range(len(sse)):\n        if curr_start is None:\n            curr_start = i\n            curr_sse = sse[i]\n        else:\n            if sse[i] != sse[i-1]:\n                _add_sec_str(\n                    annotation, curr_start+first_id, i-1+first_id, curr_sse\n                )\n                curr_start = i\n                curr_sse = sse[i]\n    # Add last secondary structure element to annotation\n    _add_sec_str(annotation, curr_start+first_id, i-1+first_id, curr_sse)\n    \n    fig = plt.figure(figsize=(8.0, 3.0))\n    ax = fig.add_subplot(111)\n    graphics.plot_feature_map(\n        ax, annotation, symbols_per_line=150, loc_range=(1,length+1),\n        show_numbers=True, show_line_position=True,\n        feature_plotters=[HelixPlotter(), SheetPlotter()]\n    )\n    fig.tight_layout()\n\n# Visualize seconday structure array\n# Sine the residues may not start at 1,\n# provide the actual first residue ID\nvisualize_secondary_structure(sse, tk_mono.res_id[0])"
      ]
    },
    {
      "cell_type": "markdown",
      "metadata": {},
      "source": [
        "Almost the same result can be achieved, when we calculate the\nsecondary structure ourselves using the DSSP software,\nas the content in ``'secStructList'`` is also calculated by the RCSB.\n\n"
      ]
    },
    {
      "cell_type": "code",
      "execution_count": null,
      "metadata": {
        "collapsed": false
      },
      "outputs": [],
      "source": [
        "sse = dssp.DsspApp.annotate_sse(tk_mono)\nsse = np.array([dssp_to_abc[e] for e in sse], dtype=\"U1\")\nvisualize_secondary_structure(sse, tk_mono.res_id[0])\n# sphinx_gallery_thumbnail_number = 4"
      ]
    },
    {
      "cell_type": "markdown",
      "metadata": {},
      "source": [
        "The one and only difference is that the second helix is slightly\nshorter.\nThis is probably caused by different versions of DSSP.\n\nLast but not least we calculate the secondary structure using\n*Biotite*'s built-in method, based on the P-SEA algorithm.\n\n"
      ]
    },
    {
      "cell_type": "code",
      "execution_count": null,
      "metadata": {
        "collapsed": false
      },
      "outputs": [],
      "source": [
        "sse = struc.annotate_sse(array, chain_id=\"A\")\nvisualize_secondary_structure(sse, tk_mono.res_id[0])\n\nplt.show()"
      ]
    }
  ],
  "metadata": {
    "kernelspec": {
      "display_name": "Python 3",
      "language": "python",
      "name": "python3"
    },
    "language_info": {
      "codemirror_mode": {
        "name": "ipython",
        "version": 3
      },
      "file_extension": ".py",
      "mimetype": "text/x-python",
      "name": "python",
      "nbconvert_exporter": "python",
      "pygments_lexer": "ipython3",
      "version": "3.6.9"
    }
  },
  "nbformat": 4,
  "nbformat_minor": 0
}